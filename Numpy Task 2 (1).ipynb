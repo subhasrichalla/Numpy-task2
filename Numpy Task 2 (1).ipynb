{
 "cells": [
  {
   "cell_type": "markdown",
   "id": "e0a9ae71",
   "metadata": {},
   "source": [
    "### Creation of ndarray\n",
    "1.Write python code to create 3d array in different ways with 15 elements."
   ]
  },
  {
   "cell_type": "code",
   "execution_count": 1,
   "id": "f59e6611",
   "metadata": {},
   "outputs": [],
   "source": [
    "import numpy as np"
   ]
  },
  {
   "cell_type": "code",
   "execution_count": 2,
   "id": "0db386d6",
   "metadata": {},
   "outputs": [
    {
     "data": {
      "text/plain": [
       "array([[[10, 15, 20, 25, 30, 35, 40, 45, 50, 55, 60, 65, 70, 75, 80]]])"
      ]
     },
     "execution_count": 2,
     "metadata": {},
     "output_type": "execute_result"
    }
   ],
   "source": [
    "arr = np.array([10,15,20,25,30,35,40,45,50,55,60,65,70,75,80],ndmin = 3) #method-1\n",
    "arr"
   ]
  },
  {
   "cell_type": "code",
   "execution_count": 3,
   "id": "037e3a23",
   "metadata": {},
   "outputs": [
    {
     "data": {
      "text/plain": [
       "array([[[10, 15, 20]],\n",
       "\n",
       "       [[25, 30, 35]],\n",
       "\n",
       "       [[40, 45, 50]],\n",
       "\n",
       "       [[55, 60, 65]],\n",
       "\n",
       "       [[70, 75, 80]]])"
      ]
     },
     "execution_count": 3,
     "metadata": {},
     "output_type": "execute_result"
    }
   ],
   "source": [
    "arr = np.array([10,15,20,25,30,35,40,45,50,55,60,65,70,75,80]).reshape(5,1,3) #method-2\n",
    "arr"
   ]
  },
  {
   "cell_type": "code",
   "execution_count": 4,
   "id": "323874be",
   "metadata": {},
   "outputs": [
    {
     "data": {
      "text/plain": [
       "array([[[10, 15, 20, 25, 30, 35, 40, 45, 50, 55, 60, 65, 70, 75, 80]]])"
      ]
     },
     "execution_count": 4,
     "metadata": {},
     "output_type": "execute_result"
    }
   ],
   "source": [
    "arr = np.array([[[10,15,20,25,30,35,40,45,50,55,60,65,70,75,80]]]) #method-3\n",
    "arr"
   ]
  },
  {
   "cell_type": "markdown",
   "id": "9f5dfda3",
   "metadata": {},
   "source": [
    "### 2.Array Creation:\n",
    "a. Create a 4D NumPy array containing the first 12 positive integers as arr1"
   ]
  },
  {
   "cell_type": "code",
   "execution_count": 5,
   "id": "d1090938",
   "metadata": {},
   "outputs": [
    {
     "data": {
      "text/plain": [
       "array([[[[ 1,  2,  3,  4,  5,  6,  7,  8,  9, 10, 11, 12]]]])"
      ]
     },
     "execution_count": 5,
     "metadata": {},
     "output_type": "execute_result"
    }
   ],
   "source": [
    "arr1 = np.array([1,2,3,4,5,6,7,8,9,10,11,12],ndmin = 4)\n",
    "arr1"
   ]
  },
  {
   "cell_type": "markdown",
   "id": "5aafe6a5",
   "metadata": {},
   "source": [
    "b. Create a 3D NumPy array1 with 20 random elements containing integers between 0 and 1"
   ]
  },
  {
   "cell_type": "code",
   "execution_count": 6,
   "id": "b1c264fc",
   "metadata": {},
   "outputs": [
    {
     "data": {
      "text/plain": [
       "array([[[1, 1, 1, 0]],\n",
       "\n",
       "       [[0, 1, 1, 1]],\n",
       "\n",
       "       [[0, 0, 1, 1]],\n",
       "\n",
       "       [[1, 1, 1, 0]],\n",
       "\n",
       "       [[1, 1, 0, 1]]])"
      ]
     },
     "execution_count": 6,
     "metadata": {},
     "output_type": "execute_result"
    }
   ],
   "source": [
    "arr2 = np.random.randint(0,2,20).reshape(5,1,4)\n",
    "arr2"
   ]
  },
  {
   "cell_type": "markdown",
   "id": "cf5a333e",
   "metadata": {},
   "source": [
    "### 3. Find all attributes of array1 and array2\n",
    "attributes of arr1"
   ]
  },
  {
   "cell_type": "code",
   "execution_count": 7,
   "id": "ab027643",
   "metadata": {},
   "outputs": [
    {
     "data": {
      "text/plain": [
       "array([[[[ 1,  2,  3,  4,  5,  6,  7,  8,  9, 10, 11, 12]]]])"
      ]
     },
     "execution_count": 7,
     "metadata": {},
     "output_type": "execute_result"
    }
   ],
   "source": [
    "arr1"
   ]
  },
  {
   "cell_type": "code",
   "execution_count": 8,
   "id": "29adce35",
   "metadata": {},
   "outputs": [
    {
     "data": {
      "text/plain": [
       "dtype('int32')"
      ]
     },
     "execution_count": 8,
     "metadata": {},
     "output_type": "execute_result"
    }
   ],
   "source": [
    "arr1.dtype  # data type"
   ]
  },
  {
   "cell_type": "code",
   "execution_count": 9,
   "id": "591153e4",
   "metadata": {},
   "outputs": [
    {
     "data": {
      "text/plain": [
       "12"
      ]
     },
     "execution_count": 9,
     "metadata": {},
     "output_type": "execute_result"
    }
   ],
   "source": [
    "arr1.size # no.of elements in array"
   ]
  },
  {
   "cell_type": "code",
   "execution_count": 10,
   "id": "fbb6e38a",
   "metadata": {},
   "outputs": [
    {
     "data": {
      "text/plain": [
       "48"
      ]
     },
     "execution_count": 10,
     "metadata": {},
     "output_type": "execute_result"
    }
   ],
   "source": [
    "arr1.nbytes # memory size of array"
   ]
  },
  {
   "cell_type": "code",
   "execution_count": 11,
   "id": "afb67f98",
   "metadata": {},
   "outputs": [
    {
     "data": {
      "text/plain": [
       "4"
      ]
     },
     "execution_count": 11,
     "metadata": {},
     "output_type": "execute_result"
    }
   ],
   "source": [
    "arr1.itemsize #memory occupied by each item"
   ]
  },
  {
   "cell_type": "code",
   "execution_count": 12,
   "id": "18aea247",
   "metadata": {},
   "outputs": [
    {
     "data": {
      "text/plain": [
       "4"
      ]
     },
     "execution_count": 12,
     "metadata": {},
     "output_type": "execute_result"
    }
   ],
   "source": [
    "arr1.ndim # dimension"
   ]
  },
  {
   "cell_type": "markdown",
   "id": "bbd5b3b4",
   "metadata": {},
   "source": [
    "### attributes of arr2"
   ]
  },
  {
   "cell_type": "code",
   "execution_count": 13,
   "id": "7047e414",
   "metadata": {},
   "outputs": [
    {
     "data": {
      "text/plain": [
       "array([[[1, 1, 1, 0]],\n",
       "\n",
       "       [[0, 1, 1, 1]],\n",
       "\n",
       "       [[0, 0, 1, 1]],\n",
       "\n",
       "       [[1, 1, 1, 0]],\n",
       "\n",
       "       [[1, 1, 0, 1]]])"
      ]
     },
     "execution_count": 13,
     "metadata": {},
     "output_type": "execute_result"
    }
   ],
   "source": [
    "arr2"
   ]
  },
  {
   "cell_type": "code",
   "execution_count": 14,
   "id": "38da8dda",
   "metadata": {},
   "outputs": [
    {
     "data": {
      "text/plain": [
       "dtype('int32')"
      ]
     },
     "execution_count": 14,
     "metadata": {},
     "output_type": "execute_result"
    }
   ],
   "source": [
    "arr2.dtype # data type"
   ]
  },
  {
   "cell_type": "code",
   "execution_count": 15,
   "id": "3076a551",
   "metadata": {},
   "outputs": [
    {
     "data": {
      "text/plain": [
       "20"
      ]
     },
     "execution_count": 15,
     "metadata": {},
     "output_type": "execute_result"
    }
   ],
   "source": [
    "arr2.size # no.of elements"
   ]
  },
  {
   "cell_type": "code",
   "execution_count": 16,
   "id": "d83328e7",
   "metadata": {},
   "outputs": [
    {
     "data": {
      "text/plain": [
       "80"
      ]
     },
     "execution_count": 16,
     "metadata": {},
     "output_type": "execute_result"
    }
   ],
   "source": [
    "arr2.nbytes # memory occupied by array"
   ]
  },
  {
   "cell_type": "code",
   "execution_count": 17,
   "id": "40b97994",
   "metadata": {},
   "outputs": [
    {
     "data": {
      "text/plain": [
       "4"
      ]
     },
     "execution_count": 17,
     "metadata": {},
     "output_type": "execute_result"
    }
   ],
   "source": [
    "arr2.itemsize # memory occupied by each item"
   ]
  },
  {
   "cell_type": "code",
   "execution_count": 18,
   "id": "83eb9449",
   "metadata": {},
   "outputs": [
    {
     "data": {
      "text/plain": [
       "3"
      ]
     },
     "execution_count": 18,
     "metadata": {},
     "output_type": "execute_result"
    }
   ],
   "source": [
    "arr2.ndim # dimension"
   ]
  },
  {
   "cell_type": "markdown",
   "id": "8f0b21de",
   "metadata": {},
   "source": [
    "### 4.Apply measure and describe the data (attributes and descriptive statistics) to above arrays using NumPy.\n",
    "descriptive statistics of arr1"
   ]
  },
  {
   "cell_type": "code",
   "execution_count": 20,
   "id": "a6df883d",
   "metadata": {},
   "outputs": [
    {
     "data": {
      "text/plain": [
       "array([[[[ 1,  2,  3,  4,  5,  6,  7,  8,  9, 10, 11, 12]]]])"
      ]
     },
     "execution_count": 20,
     "metadata": {},
     "output_type": "execute_result"
    }
   ],
   "source": [
    "arr1"
   ]
  },
  {
   "cell_type": "code",
   "execution_count": 21,
   "id": "9922b5f5",
   "metadata": {},
   "outputs": [
    {
     "data": {
      "text/plain": [
       "6.5"
      ]
     },
     "execution_count": 21,
     "metadata": {},
     "output_type": "execute_result"
    }
   ],
   "source": [
    "np.mean(arr1) # mean"
   ]
  },
  {
   "cell_type": "code",
   "execution_count": 22,
   "id": "a35ef057",
   "metadata": {},
   "outputs": [
    {
     "data": {
      "text/plain": [
       "6.5"
      ]
     },
     "execution_count": 22,
     "metadata": {},
     "output_type": "execute_result"
    }
   ],
   "source": [
    "np.median(arr1) # middle most value"
   ]
  },
  {
   "cell_type": "code",
   "execution_count": 23,
   "id": "44ab515d",
   "metadata": {},
   "outputs": [
    {
     "data": {
      "text/plain": [
       "11.916666666666666"
      ]
     },
     "execution_count": 23,
     "metadata": {},
     "output_type": "execute_result"
    }
   ],
   "source": [
    "np.var(arr1) # variance"
   ]
  },
  {
   "cell_type": "code",
   "execution_count": 24,
   "id": "c9343886",
   "metadata": {},
   "outputs": [
    {
     "data": {
      "text/plain": [
       "3.452052529534663"
      ]
     },
     "execution_count": 24,
     "metadata": {},
     "output_type": "execute_result"
    }
   ],
   "source": [
    "np.std(arr1) # standard deviation"
   ]
  },
  {
   "cell_type": "code",
   "execution_count": 25,
   "id": "1da4b8fd",
   "metadata": {},
   "outputs": [
    {
     "data": {
      "text/plain": [
       "11"
      ]
     },
     "execution_count": 25,
     "metadata": {},
     "output_type": "execute_result"
    }
   ],
   "source": [
    "Range = np.max(arr1) - np.min(arr1) # Range\n",
    "Range"
   ]
  },
  {
   "cell_type": "code",
   "execution_count": 26,
   "id": "95e08293",
   "metadata": {},
   "outputs": [
    {
     "data": {
      "text/plain": [
       "5.5"
      ]
     },
     "execution_count": 26,
     "metadata": {},
     "output_type": "execute_result"
    }
   ],
   "source": [
    "Q3 = np.percentile(arr1,75) #IQR\n",
    "Q1 = np.percentile(arr1,25)\n",
    "IQR = Q3 - Q1\n",
    "IQR"
   ]
  },
  {
   "cell_type": "code",
   "execution_count": 27,
   "id": "d7a6164c",
   "metadata": {},
   "outputs": [
    {
     "name": "stdout",
     "output_type": "stream",
     "text": [
      "-4.5\n",
      "17.5\n"
     ]
    }
   ],
   "source": [
    "lower_limit = Q1-1.5*IQR\n",
    "print(lower_limit)\n",
    "upper_limit = Q3+1.5*IQR\n",
    "print(upper_limit)"
   ]
  },
  {
   "cell_type": "code",
   "execution_count": 28,
   "id": "3437961a",
   "metadata": {},
   "outputs": [
    {
     "name": "stdout",
     "output_type": "stream",
     "text": [
      "[]\n",
      "[]\n"
     ]
    }
   ],
   "source": [
    "print(arr1[arr1 < lower_limit]) # outlier-no outlier in arr1\n",
    "print(arr1[arr1 > upper_limit])"
   ]
  },
  {
   "cell_type": "markdown",
   "id": "e82a70bb",
   "metadata": {},
   "source": [
    "### descriptive statistics of arr2"
   ]
  },
  {
   "cell_type": "code",
   "execution_count": 30,
   "id": "8eacc70a",
   "metadata": {},
   "outputs": [
    {
     "data": {
      "text/plain": [
       "array([[[1, 1, 1, 0]],\n",
       "\n",
       "       [[0, 1, 1, 1]],\n",
       "\n",
       "       [[0, 0, 1, 1]],\n",
       "\n",
       "       [[1, 1, 1, 0]],\n",
       "\n",
       "       [[1, 1, 0, 1]]])"
      ]
     },
     "execution_count": 30,
     "metadata": {},
     "output_type": "execute_result"
    }
   ],
   "source": [
    "arr2"
   ]
  },
  {
   "cell_type": "code",
   "execution_count": 31,
   "id": "82c8e8db",
   "metadata": {},
   "outputs": [
    {
     "data": {
      "text/plain": [
       "0.7"
      ]
     },
     "execution_count": 31,
     "metadata": {},
     "output_type": "execute_result"
    }
   ],
   "source": [
    "np.mean(arr2) # mean"
   ]
  },
  {
   "cell_type": "code",
   "execution_count": 32,
   "id": "5dde52d5",
   "metadata": {},
   "outputs": [
    {
     "data": {
      "text/plain": [
       "1.0"
      ]
     },
     "execution_count": 32,
     "metadata": {},
     "output_type": "execute_result"
    }
   ],
   "source": [
    "np.median(arr2) # median"
   ]
  },
  {
   "cell_type": "code",
   "execution_count": 33,
   "id": "d0d8e602",
   "metadata": {},
   "outputs": [
    {
     "data": {
      "text/plain": [
       "0.20999999999999996"
      ]
     },
     "execution_count": 33,
     "metadata": {},
     "output_type": "execute_result"
    }
   ],
   "source": [
    "np.var(arr2) # variance"
   ]
  },
  {
   "cell_type": "code",
   "execution_count": 34,
   "id": "f2056988",
   "metadata": {},
   "outputs": [
    {
     "data": {
      "text/plain": [
       "0.45825756949558394"
      ]
     },
     "execution_count": 34,
     "metadata": {},
     "output_type": "execute_result"
    }
   ],
   "source": [
    "np.std(arr2) # standard deviation"
   ]
  },
  {
   "cell_type": "code",
   "execution_count": 35,
   "id": "6c61936c",
   "metadata": {},
   "outputs": [
    {
     "data": {
      "text/plain": [
       "1"
      ]
     },
     "execution_count": 35,
     "metadata": {},
     "output_type": "execute_result"
    }
   ],
   "source": [
    "Range = np.max(arr2) - np.min(arr2)  # Range = max-min\n",
    "Range"
   ]
  },
  {
   "cell_type": "code",
   "execution_count": 36,
   "id": "d6ff5649",
   "metadata": {},
   "outputs": [
    {
     "data": {
      "text/plain": [
       "1.0"
      ]
     },
     "execution_count": 36,
     "metadata": {},
     "output_type": "execute_result"
    }
   ],
   "source": [
    "Q3 = np.percentile(arr2,75) #IQR\n",
    "Q1 = np.percentile(arr2,25)\n",
    "IQR = Q3 - Q1\n",
    "IQR"
   ]
  },
  {
   "cell_type": "code",
   "execution_count": 37,
   "id": "ae18343b",
   "metadata": {},
   "outputs": [
    {
     "name": "stdout",
     "output_type": "stream",
     "text": [
      "-1.5\n",
      "2.5\n",
      "[]\n",
      "[]\n"
     ]
    }
   ],
   "source": [
    "lower_limit = Q1-1.5*IQR\n",
    "print(lower_limit)\n",
    "upper_limit = Q3+1.5*IQR\n",
    "print(upper_limit)\n",
    "print(arr2[arr2 < lower_limit]) # outlier-no outlier in arr1\n",
    "print(arr2[arr2 > upper_limit])"
   ]
  },
  {
   "cell_type": "markdown",
   "id": "44cb0ebd",
   "metadata": {},
   "source": [
    "### Array Slicing and Indexing:\n",
    "a. Creating Arrays: - Create a 1-dimensional NumPy array arr1 with the values [0, 11, 26, 73, 42, 51, 6,77, 8,29]."
   ]
  },
  {
   "cell_type": "code",
   "execution_count": 38,
   "id": "35a0fcdf",
   "metadata": {},
   "outputs": [
    {
     "data": {
      "text/plain": [
       "array([ 0, 11, 26, 73, 42, 51,  6, 77,  8, 29])"
      ]
     },
     "execution_count": 38,
     "metadata": {},
     "output_type": "execute_result"
    }
   ],
   "source": [
    "arr1 = np.array([0, 11, 26, 73, 42, 51, 6,77, 8,29]) # 1-d\n",
    "arr1"
   ]
  },
  {
   "cell_type": "markdown",
   "id": "311ab6ff",
   "metadata": {},
   "source": [
    "### Create a 2-dimensional NumPy array arr2 with the values [[0, 1, 2], [3, 4, 5], [6, 7, 8]]."
   ]
  },
  {
   "cell_type": "code",
   "execution_count": 39,
   "id": "96973f49",
   "metadata": {},
   "outputs": [
    {
     "data": {
      "text/plain": [
       "array([[0, 1, 2],\n",
       "       [3, 4, 5],\n",
       "       [6, 7, 8]])"
      ]
     },
     "execution_count": 39,
     "metadata": {},
     "output_type": "execute_result"
    }
   ],
   "source": [
    "arr2 = np.array([[0, 1, 2], [3, 4, 5], [6, 7, 8]]) # 2-d\n",
    "arr2"
   ]
  },
  {
   "cell_type": "markdown",
   "id": "bd33ac69",
   "metadata": {},
   "source": [
    "### b.Basic Indexing: - Print the element at index 3 of arr1."
   ]
  },
  {
   "cell_type": "code",
   "execution_count": 40,
   "id": "aa0e3f16",
   "metadata": {},
   "outputs": [
    {
     "data": {
      "text/plain": [
       "73"
      ]
     },
     "execution_count": 40,
     "metadata": {},
     "output_type": "execute_result"
    }
   ],
   "source": [
    "arr1[3] # arr1"
   ]
  },
  {
   "cell_type": "markdown",
   "id": "6b29d209",
   "metadata": {},
   "source": [
    "### - Print the element at row 2, column 1 of arr2"
   ]
  },
  {
   "cell_type": "code",
   "execution_count": 41,
   "id": "21e86c7b",
   "metadata": {},
   "outputs": [
    {
     "name": "stdout",
     "output_type": "stream",
     "text": [
      "7\n",
      "7\n"
     ]
    }
   ],
   "source": [
    "print(arr2[2,1])  # arr2\n",
    "print(arr2[2][1])"
   ]
  },
  {
   "cell_type": "markdown",
   "id": "95663a7c",
   "metadata": {},
   "source": [
    "### c. Array Slicing: - Print the first five elements of arr1."
   ]
  },
  {
   "cell_type": "code",
   "execution_count": 42,
   "id": "7534f344",
   "metadata": {},
   "outputs": [
    {
     "data": {
      "text/plain": [
       "array([ 0, 11, 26, 73, 42])"
      ]
     },
     "execution_count": 42,
     "metadata": {},
     "output_type": "execute_result"
    }
   ],
   "source": [
    "arr1[0:5]  # arr1"
   ]
  },
  {
   "cell_type": "markdown",
   "id": "7fa5608e",
   "metadata": {},
   "source": [
    "### - Print the subarray of arr2 consisting of the last two rows and the first two columns\n"
   ]
  },
  {
   "cell_type": "code",
   "execution_count": 43,
   "id": "d6349b0e",
   "metadata": {},
   "outputs": [
    {
     "data": {
      "text/plain": [
       "array([[3, 4],\n",
       "       [6, 7]])"
      ]
     },
     "execution_count": 43,
     "metadata": {},
     "output_type": "execute_result"
    }
   ],
   "source": [
    "arr2[1:3,0:2] # sub array of arr2"
   ]
  },
  {
   "cell_type": "markdown",
   "id": "90ac1796",
   "metadata": {},
   "source": [
    "### print every second element starting from index 1 up to index 7 of arr1"
   ]
  },
  {
   "cell_type": "code",
   "execution_count": 45,
   "id": "8685f0ba",
   "metadata": {},
   "outputs": [
    {
     "data": {
      "text/plain": [
       "array([11, 73, 51])"
      ]
     },
     "execution_count": 45,
     "metadata": {},
     "output_type": "execute_result"
    }
   ],
   "source": [
    "arr1[1:7:2]"
   ]
  },
  {
   "cell_type": "markdown",
   "id": "03957b62",
   "metadata": {},
   "source": [
    "### Data Type Manipulation\n",
    "\n",
    "a. Creating Arrays with Specific Data Types:4\n",
    "\n",
    "- Create a 1-dimensional NumPy array int_array with the values [1, 2, 3, 4, 5] and the data type int16."
   ]
  },
  {
   "cell_type": "code",
   "execution_count": 46,
   "id": "e3de5173",
   "metadata": {},
   "outputs": [
    {
     "data": {
      "text/plain": [
       "array([1, 2, 3, 4, 5], dtype=int16)"
      ]
     },
     "execution_count": 46,
     "metadata": {},
     "output_type": "execute_result"
    }
   ],
   "source": [
    "arr1 = np.array([1, 2, 3, 4, 5],dtype = 'int16')\n",
    "arr1"
   ]
  },
  {
   "cell_type": "markdown",
   "id": "436e6d4e",
   "metadata": {},
   "source": [
    "### Create a 1-dimensional NumPy array float_array with the values [0.1, 0.2, 0.3, 0.4, 0.5] and the data type float64."
   ]
  },
  {
   "cell_type": "code",
   "execution_count": 47,
   "id": "f6b40034",
   "metadata": {},
   "outputs": [
    {
     "data": {
      "text/plain": [
       "array([0.1, 0.2, 0.3, 0.4, 0.5])"
      ]
     },
     "execution_count": 47,
     "metadata": {},
     "output_type": "execute_result"
    }
   ],
   "source": [
    "arr2 = np.array([0.1, 0.2, 0.3, 0.4, 0.5],dtype = \"float64\")\n",
    "arr2"
   ]
  },
  {
   "cell_type": "markdown",
   "id": "72a6d9fd",
   "metadata": {},
   "source": [
    "### b. Data Type Conversion:\n",
    ": - Convert the float_array to an array with data type int32."
   ]
  },
  {
   "cell_type": "code",
   "execution_count": 48,
   "id": "e0920ca0",
   "metadata": {},
   "outputs": [
    {
     "data": {
      "text/plain": [
       "array([0, 0, 0, 0, 0])"
      ]
     },
     "execution_count": 48,
     "metadata": {},
     "output_type": "execute_result"
    }
   ],
   "source": [
    "arr2 = np.array([0.1, 0.2, 0.3, 0.4, 0.5],dtype = \"int32\")\n",
    "arr2"
   ]
  },
  {
   "cell_type": "markdown",
   "id": "d651a027",
   "metadata": {},
   "source": [
    "### Print the result. - Convert the int_array to an array with data type float32. Print the result¶\n"
   ]
  },
  {
   "cell_type": "code",
   "execution_count": 49,
   "id": "0928d103",
   "metadata": {},
   "outputs": [
    {
     "data": {
      "text/plain": [
       "array([1., 2., 3., 4., 5.], dtype=float32)"
      ]
     },
     "execution_count": 49,
     "metadata": {},
     "output_type": "execute_result"
    }
   ],
   "source": [
    "arr1 = np.array([1, 2, 3, 4, 5],dtype = 'float32')\n",
    "arr1"
   ]
  },
  {
   "cell_type": "markdown",
   "id": "817e6dd6",
   "metadata": {},
   "source": [
    "### Generating Random Numbers:\n",
    "1.Use numpy.random.randint() to create an array rand_integers containing 10 random integers between 0 and 100 (inclusive)."
   ]
  },
  {
   "cell_type": "code",
   "execution_count": 50,
   "id": "1eaa2531",
   "metadata": {},
   "outputs": [
    {
     "data": {
      "text/plain": [
       "array([42, 75,  5, 15,  6, 26,  6,  7, 30, 89])"
      ]
     },
     "execution_count": 50,
     "metadata": {},
     "output_type": "execute_result"
    }
   ],
   "source": [
    "import numpy\n",
    "arr = numpy.random.randint(0,101,10)\n",
    "arr"
   ]
  },
  {
   "cell_type": "markdown",
   "id": "48a7b970",
   "metadata": {},
   "source": [
    "### 2.Use numpy.random.uniform() to create an array rand_uniform containing 5 random numbers sampled from a uniform distribution between -1 and 1."
   ]
  },
  {
   "cell_type": "code",
   "execution_count": 51,
   "id": "8b22afdd",
   "metadata": {},
   "outputs": [
    {
     "data": {
      "text/plain": [
       "array([ 0.56839638,  0.97902022,  0.78283397, -0.76687313,  0.83530373])"
      ]
     },
     "execution_count": 51,
     "metadata": {},
     "output_type": "execute_result"
    }
   ],
   "source": [
    "arr = numpy.random.uniform(-1,1,5)\n",
    "arr"
   ]
  },
  {
   "cell_type": "markdown",
   "id": "06dc2807",
   "metadata": {},
   "source": [
    "### 3.Create an array rand_matrix with random integers between 50 and 100 (inclusive).and reshape it to 2-dimensional (4 x 4) matrix"
   ]
  },
  {
   "cell_type": "code",
   "execution_count": 52,
   "id": "57819e42",
   "metadata": {},
   "outputs": [
    {
     "data": {
      "text/plain": [
       "array([[82, 72, 80, 56],\n",
       "       [61, 94, 75, 67],\n",
       "       [99, 59, 93, 75],\n",
       "       [68, 82, 95, 95]])"
      ]
     },
     "execution_count": 52,
     "metadata": {},
     "output_type": "execute_result"
    }
   ],
   "source": [
    "arr = numpy.random.randint(50,100,16).reshape(4,4)\n",
    "arr"
   ]
  },
  {
   "cell_type": "markdown",
   "id": "a91a113b",
   "metadata": {},
   "source": [
    "### 4.Apply descriptive statistics for rand_matrix."
   ]
  },
  {
   "cell_type": "code",
   "execution_count": 53,
   "id": "f89e8745",
   "metadata": {},
   "outputs": [
    {
     "data": {
      "text/plain": [
       "78.3125"
      ]
     },
     "execution_count": 53,
     "metadata": {},
     "output_type": "execute_result"
    }
   ],
   "source": [
    "np.mean(arr)  # mean"
   ]
  },
  {
   "cell_type": "code",
   "execution_count": 54,
   "id": "bb8fed97",
   "metadata": {},
   "outputs": [
    {
     "data": {
      "text/plain": [
       "77.5"
      ]
     },
     "execution_count": 54,
     "metadata": {},
     "output_type": "execute_result"
    }
   ],
   "source": [
    "np.median(arr) # median"
   ]
  },
  {
   "cell_type": "code",
   "execution_count": 55,
   "id": "388f813c",
   "metadata": {},
   "outputs": [
    {
     "data": {
      "text/plain": [
       "183.96484375"
      ]
     },
     "execution_count": 55,
     "metadata": {},
     "output_type": "execute_result"
    }
   ],
   "source": [
    "np.var(arr)  # variance"
   ]
  },
  {
   "cell_type": "code",
   "execution_count": 56,
   "id": "159d72be",
   "metadata": {},
   "outputs": [
    {
     "data": {
      "text/plain": [
       "13.56336402777718"
      ]
     },
     "execution_count": 56,
     "metadata": {},
     "output_type": "execute_result"
    }
   ],
   "source": [
    "np.std(arr)  # standard deviation"
   ]
  },
  {
   "cell_type": "code",
   "execution_count": 57,
   "id": "2021e3b9",
   "metadata": {},
   "outputs": [
    {
     "data": {
      "text/plain": [
       "43"
      ]
     },
     "execution_count": 57,
     "metadata": {},
     "output_type": "execute_result"
    }
   ],
   "source": [
    "Range = np.max(arr) - np.min(arr) # range\n",
    "Range"
   ]
  },
  {
   "cell_type": "code",
   "execution_count": 58,
   "id": "0ef7b87a",
   "metadata": {},
   "outputs": [
    {
     "data": {
      "text/plain": [
       "25.5"
      ]
     },
     "execution_count": 58,
     "metadata": {},
     "output_type": "execute_result"
    }
   ],
   "source": [
    "Q3 = np.percentile(arr,75) #IQR\n",
    "Q1 = np.percentile(arr,25)\n",
    "IQR = Q3 - Q1\n",
    "IQR"
   ]
  },
  {
   "cell_type": "code",
   "execution_count": 59,
   "id": "0cac4245",
   "metadata": {},
   "outputs": [
    {
     "name": "stdout",
     "output_type": "stream",
     "text": [
      "29.5\n",
      "131.5\n",
      "[]\n",
      "[]\n"
     ]
    }
   ],
   "source": [
    "lower_limit = Q1-1.5*IQR\n",
    "print(lower_limit)\n",
    "upper_limit = Q3+1.5*IQR\n",
    "print(upper_limit)\n",
    "print(arr[arr < lower_limit]) # outlier-no outlier in arr1\n",
    "print(arr[arr > upper_limit])"
   ]
  },
  {
   "cell_type": "markdown",
   "id": "28e67c13",
   "metadata": {},
   "source": [
    "### Analyze the Data:\n",
    "Salaries = [87877, 54494, 54804, 85051, 52453, 31250, 94868, 66349, 39828, 60501, 58570, 74906, 41671, 51428, 56414, 98446, 56819, 82833, 50477, 62898, 99658, 89224, 34225, 79172, 32199, 63795, 90947, 55723, 64557, 3113638]"
   ]
  },
  {
   "cell_type": "code",
   "execution_count": 61,
   "id": "226a4f0f",
   "metadata": {},
   "outputs": [],
   "source": [
    "Salaries = [87877, 54494, 54804, 85051, 52453, 31250, 94868, 66349, 39828, 60501, 58570, 74906, 41671, 51428, 56414, 98446, 56819, 82833, 50477, 62898, 99658, 89224, 34225, 79172, 32199, 63795, 90947, 55723, 64557, 3113638]"
   ]
  },
  {
   "cell_type": "code",
   "execution_count": 62,
   "id": "1da5dfe5",
   "metadata": {},
   "outputs": [
    {
     "data": {
      "text/plain": [
       "array([  87877,   54494,   54804,   85051,   52453,   31250,   94868,\n",
       "         66349,   39828,   60501,   58570,   74906,   41671,   51428,\n",
       "         56414,   98446,   56819,   82833,   50477,   62898,   99658,\n",
       "         89224,   34225,   79172,   32199,   63795,   90947,   55723,\n",
       "         64557, 3113638])"
      ]
     },
     "execution_count": 62,
     "metadata": {},
     "output_type": "execute_result"
    }
   ],
   "source": [
    "arr = np.array(Salaries)\n",
    "arr"
   ]
  },
  {
   "cell_type": "markdown",
   "id": "b616cc6e",
   "metadata": {},
   "source": [
    "### Describe the data using numpy array. Measure the following:\n",
    "1.How many employees are getting more less than 50000"
   ]
  },
  {
   "cell_type": "code",
   "execution_count": 63,
   "id": "b84cbd65",
   "metadata": {},
   "outputs": [
    {
     "data": {
      "text/plain": [
       "5"
      ]
     },
     "execution_count": 63,
     "metadata": {},
     "output_type": "execute_result"
    }
   ],
   "source": [
    "len(arr[arr < 50000])"
   ]
  },
  {
   "cell_type": "markdown",
   "id": "3e67dcb3",
   "metadata": {},
   "source": [
    "### 2.Is it following Normal Distribution?"
   ]
  },
  {
   "cell_type": "markdown",
   "id": "14d05ae3",
   "metadata": {},
   "source": [
    "No  # because data is not normally distributed it has extreme high value 3113638(outlier)\n"
   ]
  },
  {
   "cell_type": "markdown",
   "id": "076b204f",
   "metadata": {},
   "source": [
    "### 3.What is the median salary?"
   ]
  },
  {
   "cell_type": "code",
   "execution_count": 65,
   "id": "4350df3d",
   "metadata": {},
   "outputs": [
    {
     "data": {
      "text/plain": [
       "61699.5"
      ]
     },
     "execution_count": 65,
     "metadata": {},
     "output_type": "execute_result"
    }
   ],
   "source": [
    "np.median(arr)"
   ]
  },
  {
   "cell_type": "markdown",
   "id": "8dbfc717",
   "metadata": {},
   "source": [
    "### 4.What is the range of salaries for this company?"
   ]
  },
  {
   "cell_type": "code",
   "execution_count": 66,
   "id": "24918539",
   "metadata": {},
   "outputs": [
    {
     "data": {
      "text/plain": [
       "3082388"
      ]
     },
     "execution_count": 66,
     "metadata": {},
     "output_type": "execute_result"
    }
   ],
   "source": [
    "Range = np.max(arr) - np.min(arr)\n",
    "Range"
   ]
  },
  {
   "cell_type": "markdown",
   "id": "7297e22d",
   "metadata": {},
   "source": [
    "### 5.Find the salaries between average salary and 75% of salaries?\n"
   ]
  },
  {
   "cell_type": "code",
   "execution_count": 67,
   "id": "3cd7b274",
   "metadata": {},
   "outputs": [
    {
     "name": "stdout",
     "output_type": "stream",
     "text": [
      "166169.16666666666\n",
      "84496.5\n",
      "[87877 85051 94868 98446 99658 89224 90947]\n"
     ]
    }
   ],
   "source": [
    "a = np.mean(arr)\n",
    "print(a)\n",
    "\n",
    "Q3 = np.percentile(arr,75)\n",
    "print(Q3)\n",
    "\n",
    "print(arr[(arr > Q3) & (arr < a)])"
   ]
  },
  {
   "cell_type": "markdown",
   "id": "2cd500b1",
   "metadata": {},
   "source": [
    "### 6.How many employees are getting less than 25 % of salaries ?\n"
   ]
  },
  {
   "cell_type": "code",
   "execution_count": 68,
   "id": "8368747e",
   "metadata": {},
   "outputs": [
    {
     "name": "stdout",
     "output_type": "stream",
     "text": [
      "52963.25\n",
      "[52453 31250 39828 41671 51428 50477 34225 32199]\n",
      "8\n"
     ]
    }
   ],
   "source": [
    "Q1 = np.percentile(arr,25)\n",
    "print(Q1)\n",
    "\n",
    "print(arr[arr < Q1])\n",
    "\n",
    "print(len(arr[arr < Q1]))"
   ]
  },
  {
   "cell_type": "code",
   "execution_count": null,
   "id": "6a90c3a7",
   "metadata": {},
   "outputs": [],
   "source": []
  }
 ],
 "metadata": {
  "kernelspec": {
   "display_name": "Python 3 (ipykernel)",
   "language": "python",
   "name": "python3"
  },
  "language_info": {
   "codemirror_mode": {
    "name": "ipython",
    "version": 3
   },
   "file_extension": ".py",
   "mimetype": "text/x-python",
   "name": "python",
   "nbconvert_exporter": "python",
   "pygments_lexer": "ipython3",
   "version": "3.11.4"
  }
 },
 "nbformat": 4,
 "nbformat_minor": 5
}
